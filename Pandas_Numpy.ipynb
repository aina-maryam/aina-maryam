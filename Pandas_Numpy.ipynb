{
  "nbformat": 4,
  "nbformat_minor": 0,
  "metadata": {
    "colab": {
      "provenance": []
    },
    "kernelspec": {
      "name": "python3",
      "display_name": "Python 3"
    },
    "language_info": {
      "name": "python"
    }
  },
  "cells": [
    {
      "cell_type": "code",
      "execution_count": null,
      "metadata": {
        "id": "190BJd-ABvb1"
      },
      "outputs": [],
      "source": []
    },
    {
      "cell_type": "markdown",
      "source": [
        "# Numpy( Numerical Data)\n",
        "-Support to Arrys, Matrices and mathematical operations.\n",
        "- N- dimentional Array\n",
        "- Linear Algebra functions\n",
        "- Simulation and Random sampling"
      ],
      "metadata": {
        "id": "aR0xrhbBBzBo"
      }
    },
    {
      "cell_type": "code",
      "source": [
        "# Installation\n",
        "#!pip install numpy\n",
        "# Create an array\n",
        "import numpy as np #alias\n",
        "\n",
        "#1D Array\n",
        "array1 = np.array([1,2,3,4,5,6])\n",
        "print(array1)\n",
        "\n",
        "#2D Array\n",
        "array2 = np.array([[1,2,3],[4,5,6]])\n",
        "print(array2)\n",
        "\n",
        "#zeros Array\n",
        "array3 = np.zeros((3,3))\n",
        "print(array3)\n",
        "\n",
        "#Random Array\n",
        "array4 = np.random.random((3,3))\n",
        "print(array4)\n",
        "\n",
        "\n",
        "\n"
      ],
      "metadata": {
        "colab": {
          "base_uri": "https://localhost:8080/"
        },
        "id": "6gYqrV5eDzZ7",
        "outputId": "ec68b786-c5b2-4857-83bd-7eb69c1cd0f3"
      },
      "execution_count": null,
      "outputs": [
        {
          "output_type": "stream",
          "name": "stdout",
          "text": [
            "[1 2 3 4 5 6]\n",
            "[[1 2 3]\n",
            " [4 5 6]]\n",
            "[[0. 0. 0.]\n",
            " [0. 0. 0.]\n",
            " [0. 0. 0.]]\n",
            "[[0.16167367 0.09571903 0.31673353]\n",
            " [0.00808128 0.3614701  0.36217139]\n",
            " [0.54034705 0.91457433 0.64060124]]\n"
          ]
        }
      ]
    },
    {
      "cell_type": "code",
      "source": [
        "#Array attributes- Shapes, size, data type\n",
        "\n",
        "#Shapes\n",
        "\n",
        "print(array1.shape)\n",
        "print(array2.shape)\n",
        "\n",
        "#Size\n",
        "print(array1.size)\n",
        "print(array2.size)\n",
        "\n",
        "#Data Type\n",
        "print(array1.dtype)\n",
        "print(array2.dtype)\n"
      ],
      "metadata": {
        "colab": {
          "base_uri": "https://localhost:8080/"
        },
        "id": "etl34FcHGveG",
        "outputId": "d062a638-ec56-481e-b073-3e008ea9500f"
      },
      "execution_count": null,
      "outputs": [
        {
          "output_type": "stream",
          "name": "stdout",
          "text": [
            "(6,)\n",
            "(2, 3)\n",
            "6\n",
            "6\n",
            "int64\n",
            "int64\n"
          ]
        }
      ]
    },
    {
      "cell_type": "code",
      "source": [
        "#Indexing\n",
        "print(array1)\n",
        "\n",
        "print(array1[0:3])\n",
        "#Slicing [Start:stop:step]\n",
        "print(array1[0:6:2])"
      ],
      "metadata": {
        "colab": {
          "base_uri": "https://localhost:8080/"
        },
        "id": "pJnySxs7IKxk",
        "outputId": "dd8346d9-f6f0-473c-8262-9a26b9934d62"
      },
      "execution_count": null,
      "outputs": [
        {
          "output_type": "stream",
          "name": "stdout",
          "text": [
            "[1 2 3 4 5 6]\n",
            "[1 2 3]\n",
            "[1 3 5]\n"
          ]
        }
      ]
    },
    {
      "cell_type": "code",
      "source": [
        "#Broadcasting\n",
        "array5 = array1 + np.array([[10],[20],[30]])\n",
        "print(array5)"
      ],
      "metadata": {
        "colab": {
          "base_uri": "https://localhost:8080/"
        },
        "id": "B-0pqSHwJnks",
        "outputId": "ad06af9c-c69a-4655-971d-43520402fde7"
      },
      "execution_count": null,
      "outputs": [
        {
          "output_type": "stream",
          "name": "stdout",
          "text": [
            "[[11 12 13 14 15 16]\n",
            " [21 22 23 24 25 26]\n",
            " [31 32 33 34 35 36]]\n"
          ]
        }
      ]
    },
    {
      "cell_type": "code",
      "source": [
        "#vectorized operations\n",
        "array6 = array1 + 10\n",
        "print(array6)"
      ],
      "metadata": {
        "colab": {
          "base_uri": "https://localhost:8080/"
        },
        "id": "0Cp9AKEKKYfa",
        "outputId": "17e4120b-b360-4df3-d374-ebc4a4b33026"
      },
      "execution_count": null,
      "outputs": [
        {
          "output_type": "stream",
          "name": "stdout",
          "text": [
            "[11 12 13 14 15 16]\n"
          ]
        }
      ]
    },
    {
      "cell_type": "code",
      "source": [
        "# 1) Create two different array of same size and perform addition, substraction, multiplication, division.\n",
        "\n",
        "array7 = [1,2,3]\n",
        "array8 = [4,5,6]\n",
        "array9 = np.add(array7,array8)\n",
        "array10 = np.subtract(array7,array8)\n",
        "array11 = np.multiply(array7,array8)\n",
        "array12 = np.divide(array7,array8)\n",
        "\n",
        "print(array9)\n",
        "print(array10)\n",
        "print(array11)\n",
        "print(array12)\n",
        "\n",
        "# 2) Create 5*5 identity matrix (np.eye)\n",
        "\n",
        "import numpy as np\n",
        "identity_matrix = np.eye(5)\n",
        "print(identity_matrix)\n"
      ],
      "metadata": {
        "colab": {
          "base_uri": "https://localhost:8080/"
        },
        "id": "rFOZ3a78LA6S",
        "outputId": "fb929b44-63a1-456d-be0e-f895d9d9346e"
      },
      "execution_count": null,
      "outputs": [
        {
          "output_type": "stream",
          "name": "stdout",
          "text": [
            "[5 7 9]\n",
            "[-3 -3 -3]\n",
            "[ 4 10 18]\n",
            "[0.25 0.4  0.5 ]\n",
            "[[1. 0. 0. 0. 0.]\n",
            " [0. 1. 0. 0. 0.]\n",
            " [0. 0. 1. 0. 0.]\n",
            " [0. 0. 0. 1. 0.]\n",
            " [0. 0. 0. 0. 1.]]\n"
          ]
        }
      ]
    },
    {
      "cell_type": "code",
      "source": [
        "#Broadcasting\n",
        "a= np.array([[1],[2],[3]]) #shape\n",
        "a\n",
        "b= np.array([[10,20,30],[40,50,60],[70,80,90]]) #shape(3,3)\n",
        "b\n",
        "\n",
        "#Broadcasting addition\n",
        "c= a+b\n",
        "print(c)"
      ],
      "metadata": {
        "colab": {
          "base_uri": "https://localhost:8080/"
        },
        "id": "bO9aJlbaNqsV",
        "outputId": "7d08fbe8-94b4-4505-dc81-a3e1d35d5c83"
      },
      "execution_count": null,
      "outputs": [
        {
          "output_type": "stream",
          "name": "stdout",
          "text": [
            "[[11 21 31]\n",
            " [42 52 62]\n",
            " [73 83 93]]\n"
          ]
        }
      ]
    },
    {
      "cell_type": "code",
      "source": [
        "#Broadcasting multiplication\n",
        "a1= np.array([[1],[2],[3]]) #shape\n",
        "b1= 10 #scalar\n",
        "\n",
        "c1= a1*b1\n",
        "print(c1)"
      ],
      "metadata": {
        "colab": {
          "base_uri": "https://localhost:8080/"
        },
        "id": "z_HrTLrCP1v0",
        "outputId": "8fb24f22-fc4f-4607-e5c4-7f5f2e568ac3"
      },
      "execution_count": null,
      "outputs": [
        {
          "output_type": "stream",
          "name": "stdout",
          "text": [
            "[[10]\n",
            " [20]\n",
            " [30]]\n"
          ]
        }
      ]
    }
  ]
}