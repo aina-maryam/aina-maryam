{
  "nbformat": 4,
  "nbformat_minor": 0,
  "metadata": {
    "colab": {
      "provenance": [],
      "toc_visible": true
    },
    "kernelspec": {
      "name": "python3",
      "display_name": "Python 3"
    },
    "language_info": {
      "name": "python"
    }
  },
  "cells": [
    {
      "cell_type": "markdown",
      "source": [
        "# About the data\n",
        "\n",
        "Source:\n",
        "https://online.stat.psu.edu/stat505/lesson/1/1.4#paragraph--329\n",
        "\n",
        "Women's Health Survey\n",
        " In 1985, the USDA commissioned a study of women’s nutrition. Nutrient intake was measured for a random sample of 737 women aged 25-50 years. The following variables were measured:\n",
        "\n",
        "- Calcium(mg)\n",
        "- Iron(mg)\n",
        "- Protein(g)\n",
        "- Vitamin A(μg)\n",
        "- Vitamin C(mg)\n",
        "\n",
        "#Descriptive Statistics\n",
        "Analysis of dataset with the use of Descriptive Statistics funtions, to understand the pattern and behavior of data points."
      ],
      "metadata": {
        "id": "BRtFIQC7H30H"
      }
    },
    {
      "cell_type": "code",
      "source": [
        "\n",
        "#Import all the library\n",
        "\n",
        "import pandas as pd\n",
        "import matplotlib.pyplot as plt\n",
        "import numpy as np\n",
        "import seaborn as sns\n",
        "\n"
      ],
      "metadata": {
        "id": "fY1Vyv9ILLx2"
      },
      "execution_count": null,
      "outputs": []
    },
    {
      "cell_type": "code",
      "source": [
        "#Load the dataset\n",
        "data = pd.read_csv(\"nutrient.csv\")"
      ],
      "metadata": {
        "id": "rSQ8urGfNs7J"
      },
      "execution_count": null,
      "outputs": []
    },
    {
      "cell_type": "code",
      "source": [
        "data.head(2)"
      ],
      "metadata": {
        "colab": {
          "base_uri": "https://localhost:8080/",
          "height": 112
        },
        "id": "UBIRQt4PPxxr",
        "outputId": "759b8e22-472b-4ddd-d43d-b5c19ccf91ac"
      },
      "execution_count": null,
      "outputs": [
        {
          "output_type": "execute_result",
          "data": {
            "text/plain": [
              "   id  calcium    iron  protein  vitamin A  vitamin C\n",
              "0   1   522.29  10.188   42.561     349.13     54.141\n",
              "1   2   343.32   4.113   67.793     266.99     24.839"
            ],
            "text/html": [
              "\n",
              "  <div id=\"df-989168f9-6df0-4052-a58a-8a26293caa98\" class=\"colab-df-container\">\n",
              "    <div>\n",
              "<style scoped>\n",
              "    .dataframe tbody tr th:only-of-type {\n",
              "        vertical-align: middle;\n",
              "    }\n",
              "\n",
              "    .dataframe tbody tr th {\n",
              "        vertical-align: top;\n",
              "    }\n",
              "\n",
              "    .dataframe thead th {\n",
              "        text-align: right;\n",
              "    }\n",
              "</style>\n",
              "<table border=\"1\" class=\"dataframe\">\n",
              "  <thead>\n",
              "    <tr style=\"text-align: right;\">\n",
              "      <th></th>\n",
              "      <th>id</th>\n",
              "      <th>calcium</th>\n",
              "      <th>iron</th>\n",
              "      <th>protein</th>\n",
              "      <th>vitamin A</th>\n",
              "      <th>vitamin C</th>\n",
              "    </tr>\n",
              "  </thead>\n",
              "  <tbody>\n",
              "    <tr>\n",
              "      <th>0</th>\n",
              "      <td>1</td>\n",
              "      <td>522.29</td>\n",
              "      <td>10.188</td>\n",
              "      <td>42.561</td>\n",
              "      <td>349.13</td>\n",
              "      <td>54.141</td>\n",
              "    </tr>\n",
              "    <tr>\n",
              "      <th>1</th>\n",
              "      <td>2</td>\n",
              "      <td>343.32</td>\n",
              "      <td>4.113</td>\n",
              "      <td>67.793</td>\n",
              "      <td>266.99</td>\n",
              "      <td>24.839</td>\n",
              "    </tr>\n",
              "  </tbody>\n",
              "</table>\n",
              "</div>\n",
              "    <div class=\"colab-df-buttons\">\n",
              "\n",
              "  <div class=\"colab-df-container\">\n",
              "    <button class=\"colab-df-convert\" onclick=\"convertToInteractive('df-989168f9-6df0-4052-a58a-8a26293caa98')\"\n",
              "            title=\"Convert this dataframe to an interactive table.\"\n",
              "            style=\"display:none;\">\n",
              "\n",
              "  <svg xmlns=\"http://www.w3.org/2000/svg\" height=\"24px\" viewBox=\"0 -960 960 960\">\n",
              "    <path d=\"M120-120v-720h720v720H120Zm60-500h600v-160H180v160Zm220 220h160v-160H400v160Zm0 220h160v-160H400v160ZM180-400h160v-160H180v160Zm440 0h160v-160H620v160ZM180-180h160v-160H180v160Zm440 0h160v-160H620v160Z\"/>\n",
              "  </svg>\n",
              "    </button>\n",
              "\n",
              "  <style>\n",
              "    .colab-df-container {\n",
              "      display:flex;\n",
              "      gap: 12px;\n",
              "    }\n",
              "\n",
              "    .colab-df-convert {\n",
              "      background-color: #E8F0FE;\n",
              "      border: none;\n",
              "      border-radius: 50%;\n",
              "      cursor: pointer;\n",
              "      display: none;\n",
              "      fill: #1967D2;\n",
              "      height: 32px;\n",
              "      padding: 0 0 0 0;\n",
              "      width: 32px;\n",
              "    }\n",
              "\n",
              "    .colab-df-convert:hover {\n",
              "      background-color: #E2EBFA;\n",
              "      box-shadow: 0px 1px 2px rgba(60, 64, 67, 0.3), 0px 1px 3px 1px rgba(60, 64, 67, 0.15);\n",
              "      fill: #174EA6;\n",
              "    }\n",
              "\n",
              "    .colab-df-buttons div {\n",
              "      margin-bottom: 4px;\n",
              "    }\n",
              "\n",
              "    [theme=dark] .colab-df-convert {\n",
              "      background-color: #3B4455;\n",
              "      fill: #D2E3FC;\n",
              "    }\n",
              "\n",
              "    [theme=dark] .colab-df-convert:hover {\n",
              "      background-color: #434B5C;\n",
              "      box-shadow: 0px 1px 3px 1px rgba(0, 0, 0, 0.15);\n",
              "      filter: drop-shadow(0px 1px 2px rgba(0, 0, 0, 0.3));\n",
              "      fill: #FFFFFF;\n",
              "    }\n",
              "  </style>\n",
              "\n",
              "    <script>\n",
              "      const buttonEl =\n",
              "        document.querySelector('#df-989168f9-6df0-4052-a58a-8a26293caa98 button.colab-df-convert');\n",
              "      buttonEl.style.display =\n",
              "        google.colab.kernel.accessAllowed ? 'block' : 'none';\n",
              "\n",
              "      async function convertToInteractive(key) {\n",
              "        const element = document.querySelector('#df-989168f9-6df0-4052-a58a-8a26293caa98');\n",
              "        const dataTable =\n",
              "          await google.colab.kernel.invokeFunction('convertToInteractive',\n",
              "                                                    [key], {});\n",
              "        if (!dataTable) return;\n",
              "\n",
              "        const docLinkHtml = 'Like what you see? Visit the ' +\n",
              "          '<a target=\"_blank\" href=https://colab.research.google.com/notebooks/data_table.ipynb>data table notebook</a>'\n",
              "          + ' to learn more about interactive tables.';\n",
              "        element.innerHTML = '';\n",
              "        dataTable['output_type'] = 'display_data';\n",
              "        await google.colab.output.renderOutput(dataTable, element);\n",
              "        const docLink = document.createElement('div');\n",
              "        docLink.innerHTML = docLinkHtml;\n",
              "        element.appendChild(docLink);\n",
              "      }\n",
              "    </script>\n",
              "  </div>\n",
              "\n",
              "\n",
              "<div id=\"df-6d647b2d-f8f4-4aec-a4bb-9bf24fd5aeac\">\n",
              "  <button class=\"colab-df-quickchart\" onclick=\"quickchart('df-6d647b2d-f8f4-4aec-a4bb-9bf24fd5aeac')\"\n",
              "            title=\"Suggest charts\"\n",
              "            style=\"display:none;\">\n",
              "\n",
              "<svg xmlns=\"http://www.w3.org/2000/svg\" height=\"24px\"viewBox=\"0 0 24 24\"\n",
              "     width=\"24px\">\n",
              "    <g>\n",
              "        <path d=\"M19 3H5c-1.1 0-2 .9-2 2v14c0 1.1.9 2 2 2h14c1.1 0 2-.9 2-2V5c0-1.1-.9-2-2-2zM9 17H7v-7h2v7zm4 0h-2V7h2v10zm4 0h-2v-4h2v4z\"/>\n",
              "    </g>\n",
              "</svg>\n",
              "  </button>\n",
              "\n",
              "<style>\n",
              "  .colab-df-quickchart {\n",
              "      --bg-color: #E8F0FE;\n",
              "      --fill-color: #1967D2;\n",
              "      --hover-bg-color: #E2EBFA;\n",
              "      --hover-fill-color: #174EA6;\n",
              "      --disabled-fill-color: #AAA;\n",
              "      --disabled-bg-color: #DDD;\n",
              "  }\n",
              "\n",
              "  [theme=dark] .colab-df-quickchart {\n",
              "      --bg-color: #3B4455;\n",
              "      --fill-color: #D2E3FC;\n",
              "      --hover-bg-color: #434B5C;\n",
              "      --hover-fill-color: #FFFFFF;\n",
              "      --disabled-bg-color: #3B4455;\n",
              "      --disabled-fill-color: #666;\n",
              "  }\n",
              "\n",
              "  .colab-df-quickchart {\n",
              "    background-color: var(--bg-color);\n",
              "    border: none;\n",
              "    border-radius: 50%;\n",
              "    cursor: pointer;\n",
              "    display: none;\n",
              "    fill: var(--fill-color);\n",
              "    height: 32px;\n",
              "    padding: 0;\n",
              "    width: 32px;\n",
              "  }\n",
              "\n",
              "  .colab-df-quickchart:hover {\n",
              "    background-color: var(--hover-bg-color);\n",
              "    box-shadow: 0 1px 2px rgba(60, 64, 67, 0.3), 0 1px 3px 1px rgba(60, 64, 67, 0.15);\n",
              "    fill: var(--button-hover-fill-color);\n",
              "  }\n",
              "\n",
              "  .colab-df-quickchart-complete:disabled,\n",
              "  .colab-df-quickchart-complete:disabled:hover {\n",
              "    background-color: var(--disabled-bg-color);\n",
              "    fill: var(--disabled-fill-color);\n",
              "    box-shadow: none;\n",
              "  }\n",
              "\n",
              "  .colab-df-spinner {\n",
              "    border: 2px solid var(--fill-color);\n",
              "    border-color: transparent;\n",
              "    border-bottom-color: var(--fill-color);\n",
              "    animation:\n",
              "      spin 1s steps(1) infinite;\n",
              "  }\n",
              "\n",
              "  @keyframes spin {\n",
              "    0% {\n",
              "      border-color: transparent;\n",
              "      border-bottom-color: var(--fill-color);\n",
              "      border-left-color: var(--fill-color);\n",
              "    }\n",
              "    20% {\n",
              "      border-color: transparent;\n",
              "      border-left-color: var(--fill-color);\n",
              "      border-top-color: var(--fill-color);\n",
              "    }\n",
              "    30% {\n",
              "      border-color: transparent;\n",
              "      border-left-color: var(--fill-color);\n",
              "      border-top-color: var(--fill-color);\n",
              "      border-right-color: var(--fill-color);\n",
              "    }\n",
              "    40% {\n",
              "      border-color: transparent;\n",
              "      border-right-color: var(--fill-color);\n",
              "      border-top-color: var(--fill-color);\n",
              "    }\n",
              "    60% {\n",
              "      border-color: transparent;\n",
              "      border-right-color: var(--fill-color);\n",
              "    }\n",
              "    80% {\n",
              "      border-color: transparent;\n",
              "      border-right-color: var(--fill-color);\n",
              "      border-bottom-color: var(--fill-color);\n",
              "    }\n",
              "    90% {\n",
              "      border-color: transparent;\n",
              "      border-bottom-color: var(--fill-color);\n",
              "    }\n",
              "  }\n",
              "</style>\n",
              "\n",
              "  <script>\n",
              "    async function quickchart(key) {\n",
              "      const quickchartButtonEl =\n",
              "        document.querySelector('#' + key + ' button');\n",
              "      quickchartButtonEl.disabled = true;  // To prevent multiple clicks.\n",
              "      quickchartButtonEl.classList.add('colab-df-spinner');\n",
              "      try {\n",
              "        const charts = await google.colab.kernel.invokeFunction(\n",
              "            'suggestCharts', [key], {});\n",
              "      } catch (error) {\n",
              "        console.error('Error during call to suggestCharts:', error);\n",
              "      }\n",
              "      quickchartButtonEl.classList.remove('colab-df-spinner');\n",
              "      quickchartButtonEl.classList.add('colab-df-quickchart-complete');\n",
              "    }\n",
              "    (() => {\n",
              "      let quickchartButtonEl =\n",
              "        document.querySelector('#df-6d647b2d-f8f4-4aec-a4bb-9bf24fd5aeac button');\n",
              "      quickchartButtonEl.style.display =\n",
              "        google.colab.kernel.accessAllowed ? 'block' : 'none';\n",
              "    })();\n",
              "  </script>\n",
              "</div>\n",
              "\n",
              "    </div>\n",
              "  </div>\n"
            ],
            "application/vnd.google.colaboratory.intrinsic+json": {
              "type": "dataframe",
              "variable_name": "data",
              "summary": "{\n  \"name\": \"data\",\n  \"rows\": 737,\n  \"fields\": [\n    {\n      \"column\": \"id\",\n      \"properties\": {\n        \"dtype\": \"number\",\n        \"std\": 274,\n        \"min\": 1,\n        \"max\": 942,\n        \"num_unique_values\": 737,\n        \"samples\": [\n          853,\n          37,\n          692\n        ],\n        \"semantic_type\": \"\",\n        \"description\": \"\"\n      }\n    },\n    {\n      \"column\": \"calcium\",\n      \"properties\": {\n        \"dtype\": \"number\",\n        \"std\": 397.27754010326595,\n        \"min\": 7.44,\n        \"max\": 2866.44,\n        \"num_unique_values\": 737,\n        \"samples\": [\n          362.87,\n          574.12,\n          291.52\n        ],\n        \"semantic_type\": \"\",\n        \"description\": \"\"\n      }\n    },\n    {\n      \"column\": \"iron\",\n      \"properties\": {\n        \"dtype\": \"number\",\n        \"std\": 5.9841904700883335,\n        \"min\": 0.0,\n        \"max\": 58.668,\n        \"num_unique_values\": 719,\n        \"samples\": [\n          8.311,\n          9.456,\n          18.091\n        ],\n        \"semantic_type\": \"\",\n        \"description\": \"\"\n      }\n    },\n    {\n      \"column\": \"protein\",\n      \"properties\": {\n        \"dtype\": \"number\",\n        \"std\": 30.575756431408685,\n        \"min\": 0.0,\n        \"max\": 251.012,\n        \"num_unique_values\": 735,\n        \"samples\": [\n          37.078,\n          52.544,\n          120.149\n        ],\n        \"semantic_type\": \"\",\n        \"description\": \"\"\n      }\n    },\n    {\n      \"column\": \"vitamin A\",\n      \"properties\": {\n        \"dtype\": \"number\",\n        \"std\": 1633.539828300056,\n        \"min\": 0.0,\n        \"max\": 34434.27,\n        \"num_unique_values\": 733,\n        \"samples\": [\n          990.48,\n          801.05,\n          73.21\n        ],\n        \"semantic_type\": \"\",\n        \"description\": \"\"\n      }\n    },\n    {\n      \"column\": \"vitamin C\",\n      \"properties\": {\n        \"dtype\": \"number\",\n        \"std\": 73.59527211823996,\n        \"min\": 0.0,\n        \"max\": 433.339,\n        \"num_unique_values\": 733,\n        \"samples\": [\n          41.077,\n          40.69,\n          79.886\n        ],\n        \"semantic_type\": \"\",\n        \"description\": \"\"\n      }\n    }\n  ]\n}"
            }
          },
          "metadata": {},
          "execution_count": 3
        }
      ]
    },
    {
      "cell_type": "code",
      "source": [
        "print(\"Column name:\")\n",
        "print(data.columns)\n",
        "\n",
        "print(\"\\nData type: \")\n",
        "print(data.dtypes)\n",
        "\n",
        "print(\"\\nDescribe data:\")\n",
        "print(data.describe)"
      ],
      "metadata": {
        "colab": {
          "base_uri": "https://localhost:8080/"
        },
        "id": "nBYPn1E-RWvr",
        "outputId": "9785e5bd-5564-4011-9bc2-a6eed89a9d0f"
      },
      "execution_count": null,
      "outputs": [
        {
          "output_type": "stream",
          "name": "stdout",
          "text": [
            "Column name:\n",
            "Index(['id', 'calcium', 'iron', 'protein', 'vitamin A', 'vitamin C'], dtype='object')\n",
            "\n",
            "Data type: \n",
            "id             int64\n",
            "calcium      float64\n",
            "iron         float64\n",
            "protein      float64\n",
            "vitamin A    float64\n",
            "vitamin C    float64\n",
            "dtype: object\n",
            "\n",
            "Describe data:\n",
            "<bound method NDFrame.describe of       id  calcium    iron  protein  vitamin A  vitamin C\n",
            "0      1   522.29  10.188   42.561     349.13     54.141\n",
            "1      2   343.32   4.113   67.793     266.99     24.839\n",
            "2      3   858.26  13.741   59.933     667.90    155.455\n",
            "3      4   575.98  13.245   42.215     792.23    224.688\n",
            "4      5  1927.50  18.919  111.316     740.27     80.961\n",
            "..   ...      ...     ...      ...        ...        ...\n",
            "732  937   217.96   6.447   37.294     260.16     23.616\n",
            "733  938   416.19   7.156   36.991     552.76     18.908\n",
            "734  940    93.43   6.484   35.467     264.63     48.105\n",
            "735  941   419.04   7.545   16.894      96.79    320.558\n",
            "736  942  1156.49  17.252   69.045    1087.98    152.650\n",
            "\n",
            "[737 rows x 6 columns]>\n"
          ]
        }
      ]
    },
    {
      "cell_type": "code",
      "source": [
        "#Measure of central tendency\n",
        "print(\"\\nMean\")\n",
        "print(data.mean())\n",
        "\n",
        "print(\"\\nMedian\")\n",
        "print(data.median())\n",
        "\n",
        "print(\"\\nMode\")\n",
        "print(data.mode())"
      ],
      "metadata": {
        "colab": {
          "base_uri": "https://localhost:8080/"
        },
        "id": "oKqg1yhcTg-7",
        "outputId": "64f655f5-fb3e-4dce-c71a-d7e9ec213b73"
      },
      "execution_count": null,
      "outputs": [
        {
          "output_type": "stream",
          "name": "stdout",
          "text": [
            "\n",
            "Mean\n",
            "id           464.256445\n",
            "calcium      624.049254\n",
            "iron          11.129900\n",
            "protein       65.803441\n",
            "vitamin A    839.635346\n",
            "vitamin C     78.928446\n",
            "dtype: float64\n",
            "\n",
            "Median\n",
            "id           457.000\n",
            "calcium      548.290\n",
            "iron          10.033\n",
            "protein       61.072\n",
            "vitamin A    524.030\n",
            "vitamin C     53.594\n",
            "dtype: float64\n",
            "\n",
            "Mode\n",
            "      id  calcium   iron  protein  vitamin A  vitamin C\n",
            "0      1     7.44  7.136   73.267        0.0        0.0\n",
            "1      2    13.53  8.639   89.235        NaN        NaN\n",
            "2      3    34.88  8.742      NaN        NaN        NaN\n",
            "3      4    62.59  8.773      NaN        NaN        NaN\n",
            "4      5    69.34  8.865      NaN        NaN        NaN\n",
            "..   ...      ...    ...      ...        ...        ...\n",
            "732  937  2032.65    NaN      NaN        NaN        NaN\n",
            "733  938  2072.56    NaN      NaN        NaN        NaN\n",
            "734  940  2111.83    NaN      NaN        NaN        NaN\n",
            "735  941  2465.78    NaN      NaN        NaN        NaN\n",
            "736  942  2866.44    NaN      NaN        NaN        NaN\n",
            "\n",
            "[737 rows x 6 columns]\n"
          ]
        }
      ]
    },
    {
      "cell_type": "code",
      "source": [
        "#Measure of dispersion\n",
        "print(\"Variance: \")\n",
        "print(data.var())\n",
        "\n",
        "print(\"\\nStandard Deviation: \")\n",
        "print(data.std())\n",
        "\n",
        "print(\"\\nRange: \")\n",
        "print(data.max()-data.min())\n",
        "\n"
      ],
      "metadata": {
        "colab": {
          "base_uri": "https://localhost:8080/"
        },
        "id": "VuUcDrRrUtO9",
        "outputId": "8b7aa0e3-bb38-45ee-8a1a-c3996d8ae118"
      },
      "execution_count": null,
      "outputs": [
        {
          "output_type": "stream",
          "name": "stdout",
          "text": [
            "Variance: \n",
            "id           7.515175e+04\n",
            "calcium      1.578294e+05\n",
            "iron         3.581054e+01\n",
            "protein      9.348769e+02\n",
            "vitamin A    2.668452e+06\n",
            "vitamin C    5.416264e+03\n",
            "dtype: float64\n",
            "\n",
            "Standard Deviation: \n",
            "id            274.138201\n",
            "calcium       397.277540\n",
            "iron            5.984190\n",
            "protein        30.575756\n",
            "vitamin A    1633.539828\n",
            "vitamin C      73.595272\n",
            "dtype: float64\n",
            "\n",
            "Range: \n",
            "id             941.000\n",
            "calcium       2859.000\n",
            "iron            58.668\n",
            "protein        251.012\n",
            "vitamin A    34434.270\n",
            "vitamin C      433.339\n",
            "dtype: float64\n"
          ]
        }
      ]
    },
    {
      "cell_type": "code",
      "source": [
        "# Skewness and Kurtosis\n",
        "print(\"\\nSkewness:\")\n",
        "print(data.skew())\n",
        "print(\"\\nKurtosis:\")\n",
        "print(data.kurtosis())"
      ],
      "metadata": {
        "colab": {
          "base_uri": "https://localhost:8080/"
        },
        "id": "yxD6fF9bRN23",
        "outputId": "cc8f757a-a7e0-4f4e-cdf5-a682a65c3fd4"
      },
      "execution_count": null,
      "outputs": [
        {
          "output_type": "stream",
          "name": "stdout",
          "text": [
            "\n",
            "Skewness:\n",
            "id            0.042497\n",
            "calcium       1.314639\n",
            "iron          2.298134\n",
            "protein       1.135245\n",
            "vitamin A    13.408218\n",
            "vitamin C     1.600387\n",
            "dtype: float64\n",
            "\n",
            "Kurtosis:\n",
            "id            -1.207343\n",
            "calcium        2.610995\n",
            "iron          11.540804\n",
            "protein        3.147128\n",
            "vitamin A    250.797823\n",
            "vitamin C      2.726988\n",
            "dtype: float64\n"
          ]
        }
      ]
    },
    {
      "cell_type": "code",
      "source": [
        "# Graph Analysis : Bar Chart\n",
        "plt.figure(figsize=(6,4))\n",
        "plt.bar(data['id'], data['calcium'], color=\"red\", label =\"calcium\")\n",
        "plt.xlabel(\"ID\")\n",
        "plt.ylabel(\"Calcium\")\n",
        "plt.title(\"Calcium intake by ID\")\n",
        "plt.legend()\n",
        "plt.show()"
      ],
      "metadata": {
        "colab": {
          "base_uri": "https://localhost:8080/",
          "height": 410
        },
        "id": "E9yNp_FsYqrE",
        "outputId": "eb915c04-ca73-4486-eb85-816ac23680e4"
      },
      "execution_count": null,
      "outputs": [
        {
          "output_type": "display_data",
          "data": {
            "text/plain": [
              "<Figure size 600x400 with 1 Axes>"
            ],
            "image/png": "[encoded data removed]"
          },
          "metadata": {}
        }
      ]
    },
    {
      "cell_type": "code",
      "source": [
        "# Graph Analysis : Histogram\n",
        "plt.figure(figsize=(6,4))\n",
        "plt.hist(data['calcium'], bins=10, color=\"yellow\", edgecolor= \"black\")\n",
        "plt.xlabel(\"Calcium\")\n",
        "plt.ylabel(\"ID\")\n",
        "plt.title(\"Histogram of Calcium intake by ID\")\n",
        "plt.legend()\n",
        "plt.show()"
      ],
      "metadata": {
        "colab": {
          "base_uri": "https://localhost:8080/",
          "height": 447
        },
        "id": "fH7Ajm7ubqG3",
        "outputId": "4b7be11f-368c-4e19-ca87-10b9d9afc746"
      },
      "execution_count": null,
      "outputs": [
        {
          "output_type": "stream",
          "name": "stderr",
          "text": [
            "WARNING:matplotlib.legend:No artists with labels found to put in legend.  Note that artists whose label start with an underscore are ignored when legend() is called with no argument.\n"
          ]
        },
        {
          "output_type": "display_data",
          "data": {
            "text/plain": [
              "<Figure size 600x400 with 1 Axes>"
            ],
            "image/png": "[encoded data removed]"
          },
          "metadata": {}
        }
      ]
    }
  ]
}